{
  "nbformat": 4,
  "nbformat_minor": 0,
  "metadata": {
    "colab": {
      "name": "portfolio_optimization.ipynb",
      "provenance": []
    },
    "kernelspec": {
      "name": "python3",
      "display_name": "Python 3"
    },
    "accelerator": "GPU"
  },
  "cells": [
    {
      "cell_type": "code",
      "metadata": {
        "id": "KlBAglyJqlBH"
      },
      "source": [
        "from pandas_datareader import data as web\n",
        "import pandas as pd\n",
        "import numpy as np\n",
        "from datetime import datetime\n",
        "import matplotlib.pyplot as plt\n",
        "plt.style.use('fivethirtyeight')"
      ],
      "execution_count": 4,
      "outputs": []
    },
    {
      "cell_type": "code",
      "metadata": {
        "id": "muNjYReJrEYF"
      },
      "source": [
        "# create a fictional potfolio\n",
        "#FAANG\n",
        "assets = ['ADBE','SPOT', 'BJ', 'DIS', 'BABA', 'FB','LOW', 'NLS', 'SONO', 'NEM' \n",
        "          ]\n"
      ],
      "execution_count": 32,
      "outputs": []
    },
    {
      "cell_type": "code",
      "metadata": {
        "id": "pKVE19PtvSWR"
      },
      "source": [
        "# assign weights to the stocks\n",
        "weights = np.array([0.1,0.1,0.1,0.1,0.1, 0.1, 0.1, 0.1, 0.1, 0.1])"
      ],
      "execution_count": 33,
      "outputs": []
    },
    {
      "cell_type": "code",
      "metadata": {
        "id": "tqHjv-UY1kZN"
      },
      "source": [
        "start_date = '2010-01-01'\n",
        "end_date = '2021-01-01'"
      ],
      "execution_count": 34,
      "outputs": []
    },
    {
      "cell_type": "code",
      "metadata": {
        "id": "iwzXXi0E1z_M"
      },
      "source": [
        "# df to store adj close price\n",
        "df = pd.DataFrame()\n",
        "\n",
        "for stock in assets:\n",
        "  df[stock] = web.DataReader(stock, data_source='yahoo', start = start_date, end = end_date)['Adj Close']\n",
        "  "
      ],
      "execution_count": 35,
      "outputs": []
    },
    {
      "cell_type": "code",
      "metadata": {
        "colab": {
          "base_uri": "https://localhost:8080/",
          "height": 450
        },
        "id": "pw4xbtF32c7U",
        "outputId": "c6c26862-e7d6-4526-db81-227b075b5602"
      },
      "source": [
        "df"
      ],
      "execution_count": 36,
      "outputs": [
        {
          "output_type": "execute_result",
          "data": {
            "text/html": [
              "<div>\n",
              "<style scoped>\n",
              "    .dataframe tbody tr th:only-of-type {\n",
              "        vertical-align: middle;\n",
              "    }\n",
              "\n",
              "    .dataframe tbody tr th {\n",
              "        vertical-align: top;\n",
              "    }\n",
              "\n",
              "    .dataframe thead th {\n",
              "        text-align: right;\n",
              "    }\n",
              "</style>\n",
              "<table border=\"1\" class=\"dataframe\">\n",
              "  <thead>\n",
              "    <tr style=\"text-align: right;\">\n",
              "      <th></th>\n",
              "      <th>ADBE</th>\n",
              "      <th>SPOT</th>\n",
              "      <th>BJ</th>\n",
              "      <th>DIS</th>\n",
              "      <th>BABA</th>\n",
              "      <th>FB</th>\n",
              "      <th>LOW</th>\n",
              "      <th>NLS</th>\n",
              "      <th>SONO</th>\n",
              "      <th>NEM</th>\n",
              "    </tr>\n",
              "    <tr>\n",
              "      <th>Date</th>\n",
              "      <th></th>\n",
              "      <th></th>\n",
              "      <th></th>\n",
              "      <th></th>\n",
              "      <th></th>\n",
              "      <th></th>\n",
              "      <th></th>\n",
              "      <th></th>\n",
              "      <th></th>\n",
              "      <th></th>\n",
              "    </tr>\n",
              "  </thead>\n",
              "  <tbody>\n",
              "    <tr>\n",
              "      <th>2010-01-04</th>\n",
              "      <td>37.090000</td>\n",
              "      <td>NaN</td>\n",
              "      <td>NaN</td>\n",
              "      <td>27.933924</td>\n",
              "      <td>NaN</td>\n",
              "      <td>NaN</td>\n",
              "      <td>18.957432</td>\n",
              "      <td>2.090000</td>\n",
              "      <td>NaN</td>\n",
              "      <td>40.073391</td>\n",
              "    </tr>\n",
              "    <tr>\n",
              "      <th>2010-01-05</th>\n",
              "      <td>37.700001</td>\n",
              "      <td>NaN</td>\n",
              "      <td>NaN</td>\n",
              "      <td>27.864237</td>\n",
              "      <td>NaN</td>\n",
              "      <td>NaN</td>\n",
              "      <td>18.760973</td>\n",
              "      <td>2.030000</td>\n",
              "      <td>NaN</td>\n",
              "      <td>40.180923</td>\n",
              "    </tr>\n",
              "    <tr>\n",
              "      <th>2010-01-06</th>\n",
              "      <td>37.619999</td>\n",
              "      <td>NaN</td>\n",
              "      <td>NaN</td>\n",
              "      <td>27.716166</td>\n",
              "      <td>NaN</td>\n",
              "      <td>NaN</td>\n",
              "      <td>18.810085</td>\n",
              "      <td>2.010000</td>\n",
              "      <td>NaN</td>\n",
              "      <td>41.032841</td>\n",
              "    </tr>\n",
              "    <tr>\n",
              "      <th>2010-01-07</th>\n",
              "      <td>36.889999</td>\n",
              "      <td>NaN</td>\n",
              "      <td>NaN</td>\n",
              "      <td>27.724878</td>\n",
              "      <td>NaN</td>\n",
              "      <td>NaN</td>\n",
              "      <td>19.350327</td>\n",
              "      <td>1.960000</td>\n",
              "      <td>NaN</td>\n",
              "      <td>40.768173</td>\n",
              "    </tr>\n",
              "    <tr>\n",
              "      <th>2010-01-08</th>\n",
              "      <td>36.689999</td>\n",
              "      <td>NaN</td>\n",
              "      <td>NaN</td>\n",
              "      <td>27.768419</td>\n",
              "      <td>NaN</td>\n",
              "      <td>NaN</td>\n",
              "      <td>19.309402</td>\n",
              "      <td>2.000000</td>\n",
              "      <td>NaN</td>\n",
              "      <td>41.041115</td>\n",
              "    </tr>\n",
              "    <tr>\n",
              "      <th>...</th>\n",
              "      <td>...</td>\n",
              "      <td>...</td>\n",
              "      <td>...</td>\n",
              "      <td>...</td>\n",
              "      <td>...</td>\n",
              "      <td>...</td>\n",
              "      <td>...</td>\n",
              "      <td>...</td>\n",
              "      <td>...</td>\n",
              "      <td>...</td>\n",
              "    </tr>\n",
              "    <tr>\n",
              "      <th>2020-12-24</th>\n",
              "      <td>499.859985</td>\n",
              "      <td>328.390015</td>\n",
              "      <td>38.209999</td>\n",
              "      <td>173.729996</td>\n",
              "      <td>222.000000</td>\n",
              "      <td>267.399994</td>\n",
              "      <td>162.770004</td>\n",
              "      <td>20.870001</td>\n",
              "      <td>24.440001</td>\n",
              "      <td>60.480000</td>\n",
              "    </tr>\n",
              "    <tr>\n",
              "      <th>2020-12-28</th>\n",
              "      <td>498.950012</td>\n",
              "      <td>317.290009</td>\n",
              "      <td>37.080002</td>\n",
              "      <td>178.860001</td>\n",
              "      <td>222.360001</td>\n",
              "      <td>277.000000</td>\n",
              "      <td>162.039993</td>\n",
              "      <td>19.740000</td>\n",
              "      <td>23.570000</td>\n",
              "      <td>59.820000</td>\n",
              "    </tr>\n",
              "    <tr>\n",
              "      <th>2020-12-29</th>\n",
              "      <td>502.109985</td>\n",
              "      <td>318.429993</td>\n",
              "      <td>37.349998</td>\n",
              "      <td>177.300003</td>\n",
              "      <td>236.259995</td>\n",
              "      <td>276.779999</td>\n",
              "      <td>160.539993</td>\n",
              "      <td>18.100000</td>\n",
              "      <td>23.049999</td>\n",
              "      <td>59.730000</td>\n",
              "    </tr>\n",
              "    <tr>\n",
              "      <th>2020-12-30</th>\n",
              "      <td>497.450012</td>\n",
              "      <td>319.350006</td>\n",
              "      <td>38.080002</td>\n",
              "      <td>181.169998</td>\n",
              "      <td>238.389999</td>\n",
              "      <td>271.869995</td>\n",
              "      <td>160.559998</td>\n",
              "      <td>18.879999</td>\n",
              "      <td>23.440001</td>\n",
              "      <td>60.389999</td>\n",
              "    </tr>\n",
              "    <tr>\n",
              "      <th>2020-12-31</th>\n",
              "      <td>500.119995</td>\n",
              "      <td>314.660004</td>\n",
              "      <td>37.279999</td>\n",
              "      <td>181.179993</td>\n",
              "      <td>232.729996</td>\n",
              "      <td>273.160004</td>\n",
              "      <td>160.509995</td>\n",
              "      <td>18.139999</td>\n",
              "      <td>23.389999</td>\n",
              "      <td>59.889999</td>\n",
              "    </tr>\n",
              "  </tbody>\n",
              "</table>\n",
              "<p>2769 rows × 10 columns</p>\n",
              "</div>"
            ],
            "text/plain": [
              "                  ADBE        SPOT         BJ  ...        NLS       SONO        NEM\n",
              "Date                                           ...                                 \n",
              "2010-01-04   37.090000         NaN        NaN  ...   2.090000        NaN  40.073391\n",
              "2010-01-05   37.700001         NaN        NaN  ...   2.030000        NaN  40.180923\n",
              "2010-01-06   37.619999         NaN        NaN  ...   2.010000        NaN  41.032841\n",
              "2010-01-07   36.889999         NaN        NaN  ...   1.960000        NaN  40.768173\n",
              "2010-01-08   36.689999         NaN        NaN  ...   2.000000        NaN  41.041115\n",
              "...                ...         ...        ...  ...        ...        ...        ...\n",
              "2020-12-24  499.859985  328.390015  38.209999  ...  20.870001  24.440001  60.480000\n",
              "2020-12-28  498.950012  317.290009  37.080002  ...  19.740000  23.570000  59.820000\n",
              "2020-12-29  502.109985  318.429993  37.349998  ...  18.100000  23.049999  59.730000\n",
              "2020-12-30  497.450012  319.350006  38.080002  ...  18.879999  23.440001  60.389999\n",
              "2020-12-31  500.119995  314.660004  37.279999  ...  18.139999  23.389999  59.889999\n",
              "\n",
              "[2769 rows x 10 columns]"
            ]
          },
          "metadata": {
            "tags": []
          },
          "execution_count": 36
        }
      ]
    },
    {
      "cell_type": "code",
      "metadata": {
        "colab": {
          "base_uri": "https://localhost:8080/",
          "height": 325
        },
        "id": "K5Sruyzs2ucD",
        "outputId": "2346afbf-d08f-4fb4-b0fd-1731e08107da"
      },
      "source": [
        "title = 'Portfolio Adj. Close Price Hist'\n",
        "\n",
        "my_stocks = df\n",
        "for c in my_stocks.columns.values:\n",
        "  plt.plot(my_stocks[c], label=c)\n",
        "\n",
        "plt.title(title)\n",
        "plt.xlabel('Date', fontsize=18)\n",
        "plt.ylabel('Adj. Price USD ($)', fontsize= 18)\n",
        "plt.legend(my_stocks.columns.values, loc = 'upper left')\n",
        "plt.show()\n",
        "\n"
      ],
      "execution_count": 37,
      "outputs": [
        {
          "output_type": "display_data",
          "data": {
            "image/png": "[encoded data removed]",
            "text/plain": [
              "<Figure size 432x288 with 1 Axes>"
            ]
          },
          "metadata": {
            "tags": []
          }
        }
      ]
    },
    {
      "cell_type": "code",
      "metadata": {
        "colab": {
          "base_uri": "https://localhost:8080/",
          "height": 450
        },
        "id": "w3c7uL4n3zUW",
        "outputId": "5614b589-8abd-483f-906d-7ff9c08a3606"
      },
      "source": [
        "# daily return\n",
        "returns = df.pct_change()\n",
        "returns"
      ],
      "execution_count": 38,
      "outputs": [
        {
          "output_type": "execute_result",
          "data": {
            "text/html": [
              "<div>\n",
              "<style scoped>\n",
              "    .dataframe tbody tr th:only-of-type {\n",
              "        vertical-align: middle;\n",
              "    }\n",
              "\n",
              "    .dataframe tbody tr th {\n",
              "        vertical-align: top;\n",
              "    }\n",
              "\n",
              "    .dataframe thead th {\n",
              "        text-align: right;\n",
              "    }\n",
              "</style>\n",
              "<table border=\"1\" class=\"dataframe\">\n",
              "  <thead>\n",
              "    <tr style=\"text-align: right;\">\n",
              "      <th></th>\n",
              "      <th>ADBE</th>\n",
              "      <th>SPOT</th>\n",
              "      <th>BJ</th>\n",
              "      <th>DIS</th>\n",
              "      <th>BABA</th>\n",
              "      <th>FB</th>\n",
              "      <th>LOW</th>\n",
              "      <th>NLS</th>\n",
              "      <th>SONO</th>\n",
              "      <th>NEM</th>\n",
              "    </tr>\n",
              "    <tr>\n",
              "      <th>Date</th>\n",
              "      <th></th>\n",
              "      <th></th>\n",
              "      <th></th>\n",
              "      <th></th>\n",
              "      <th></th>\n",
              "      <th></th>\n",
              "      <th></th>\n",
              "      <th></th>\n",
              "      <th></th>\n",
              "      <th></th>\n",
              "    </tr>\n",
              "  </thead>\n",
              "  <tbody>\n",
              "    <tr>\n",
              "      <th>2010-01-04</th>\n",
              "      <td>NaN</td>\n",
              "      <td>NaN</td>\n",
              "      <td>NaN</td>\n",
              "      <td>NaN</td>\n",
              "      <td>NaN</td>\n",
              "      <td>NaN</td>\n",
              "      <td>NaN</td>\n",
              "      <td>NaN</td>\n",
              "      <td>NaN</td>\n",
              "      <td>NaN</td>\n",
              "    </tr>\n",
              "    <tr>\n",
              "      <th>2010-01-05</th>\n",
              "      <td>0.016446</td>\n",
              "      <td>NaN</td>\n",
              "      <td>NaN</td>\n",
              "      <td>-0.002495</td>\n",
              "      <td>NaN</td>\n",
              "      <td>NaN</td>\n",
              "      <td>-0.010363</td>\n",
              "      <td>-0.028708</td>\n",
              "      <td>NaN</td>\n",
              "      <td>0.002683</td>\n",
              "    </tr>\n",
              "    <tr>\n",
              "      <th>2010-01-06</th>\n",
              "      <td>-0.002122</td>\n",
              "      <td>NaN</td>\n",
              "      <td>NaN</td>\n",
              "      <td>-0.005314</td>\n",
              "      <td>NaN</td>\n",
              "      <td>NaN</td>\n",
              "      <td>0.002618</td>\n",
              "      <td>-0.009852</td>\n",
              "      <td>NaN</td>\n",
              "      <td>0.021202</td>\n",
              "    </tr>\n",
              "    <tr>\n",
              "      <th>2010-01-07</th>\n",
              "      <td>-0.019405</td>\n",
              "      <td>NaN</td>\n",
              "      <td>NaN</td>\n",
              "      <td>0.000314</td>\n",
              "      <td>NaN</td>\n",
              "      <td>NaN</td>\n",
              "      <td>0.028721</td>\n",
              "      <td>-0.024876</td>\n",
              "      <td>NaN</td>\n",
              "      <td>-0.006450</td>\n",
              "    </tr>\n",
              "    <tr>\n",
              "      <th>2010-01-08</th>\n",
              "      <td>-0.005422</td>\n",
              "      <td>NaN</td>\n",
              "      <td>NaN</td>\n",
              "      <td>0.001570</td>\n",
              "      <td>NaN</td>\n",
              "      <td>NaN</td>\n",
              "      <td>-0.002115</td>\n",
              "      <td>0.020408</td>\n",
              "      <td>NaN</td>\n",
              "      <td>0.006695</td>\n",
              "    </tr>\n",
              "    <tr>\n",
              "      <th>...</th>\n",
              "      <td>...</td>\n",
              "      <td>...</td>\n",
              "      <td>...</td>\n",
              "      <td>...</td>\n",
              "      <td>...</td>\n",
              "      <td>...</td>\n",
              "      <td>...</td>\n",
              "      <td>...</td>\n",
              "      <td>...</td>\n",
              "      <td>...</td>\n",
              "    </tr>\n",
              "    <tr>\n",
              "      <th>2020-12-24</th>\n",
              "      <td>0.005937</td>\n",
              "      <td>-0.007255</td>\n",
              "      <td>0.003414</td>\n",
              "      <td>0.001037</td>\n",
              "      <td>-0.133422</td>\n",
              "      <td>-0.002648</td>\n",
              "      <td>0.002093</td>\n",
              "      <td>-0.012305</td>\n",
              "      <td>-0.020833</td>\n",
              "      <td>0.011710</td>\n",
              "    </tr>\n",
              "    <tr>\n",
              "      <th>2020-12-28</th>\n",
              "      <td>-0.001820</td>\n",
              "      <td>-0.033801</td>\n",
              "      <td>-0.029573</td>\n",
              "      <td>0.029529</td>\n",
              "      <td>0.001622</td>\n",
              "      <td>0.035901</td>\n",
              "      <td>-0.004485</td>\n",
              "      <td>-0.054145</td>\n",
              "      <td>-0.035597</td>\n",
              "      <td>-0.010913</td>\n",
              "    </tr>\n",
              "    <tr>\n",
              "      <th>2020-12-29</th>\n",
              "      <td>0.006333</td>\n",
              "      <td>0.003593</td>\n",
              "      <td>0.007281</td>\n",
              "      <td>-0.008722</td>\n",
              "      <td>0.062511</td>\n",
              "      <td>-0.000794</td>\n",
              "      <td>-0.009257</td>\n",
              "      <td>-0.083080</td>\n",
              "      <td>-0.022062</td>\n",
              "      <td>-0.001505</td>\n",
              "    </tr>\n",
              "    <tr>\n",
              "      <th>2020-12-30</th>\n",
              "      <td>-0.009281</td>\n",
              "      <td>0.002889</td>\n",
              "      <td>0.019545</td>\n",
              "      <td>0.021827</td>\n",
              "      <td>0.009016</td>\n",
              "      <td>-0.017740</td>\n",
              "      <td>0.000125</td>\n",
              "      <td>0.043094</td>\n",
              "      <td>0.016920</td>\n",
              "      <td>0.011050</td>\n",
              "    </tr>\n",
              "    <tr>\n",
              "      <th>2020-12-31</th>\n",
              "      <td>0.005367</td>\n",
              "      <td>-0.014686</td>\n",
              "      <td>-0.021008</td>\n",
              "      <td>0.000055</td>\n",
              "      <td>-0.023743</td>\n",
              "      <td>0.004745</td>\n",
              "      <td>-0.000311</td>\n",
              "      <td>-0.039195</td>\n",
              "      <td>-0.002133</td>\n",
              "      <td>-0.008280</td>\n",
              "    </tr>\n",
              "  </tbody>\n",
              "</table>\n",
              "<p>2769 rows × 10 columns</p>\n",
              "</div>"
            ],
            "text/plain": [
              "                ADBE      SPOT        BJ  ...       NLS      SONO       NEM\n",
              "Date                                      ...                              \n",
              "2010-01-04       NaN       NaN       NaN  ...       NaN       NaN       NaN\n",
              "2010-01-05  0.016446       NaN       NaN  ... -0.028708       NaN  0.002683\n",
              "2010-01-06 -0.002122       NaN       NaN  ... -0.009852       NaN  0.021202\n",
              "2010-01-07 -0.019405       NaN       NaN  ... -0.024876       NaN -0.006450\n",
              "2010-01-08 -0.005422       NaN       NaN  ...  0.020408       NaN  0.006695\n",
              "...              ...       ...       ...  ...       ...       ...       ...\n",
              "2020-12-24  0.005937 -0.007255  0.003414  ... -0.012305 -0.020833  0.011710\n",
              "2020-12-28 -0.001820 -0.033801 -0.029573  ... -0.054145 -0.035597 -0.010913\n",
              "2020-12-29  0.006333  0.003593  0.007281  ... -0.083080 -0.022062 -0.001505\n",
              "2020-12-30 -0.009281  0.002889  0.019545  ...  0.043094  0.016920  0.011050\n",
              "2020-12-31  0.005367 -0.014686 -0.021008  ... -0.039195 -0.002133 -0.008280\n",
              "\n",
              "[2769 rows x 10 columns]"
            ]
          },
          "metadata": {
            "tags": []
          },
          "execution_count": 38
        }
      ]
    },
    {
      "cell_type": "code",
      "metadata": {
        "colab": {
          "base_uri": "https://localhost:8080/",
          "height": 359
        },
        "id": "VIVcrp9T4JH4",
        "outputId": "5c957941-054a-454c-cc02-860fb6be802d"
      },
      "source": [
        "cov_matrix_annual = returns.cov()*252\n",
        "cov_matrix_annual"
      ],
      "execution_count": 39,
      "outputs": [
        {
          "output_type": "execute_result",
          "data": {
            "text/html": [
              "<div>\n",
              "<style scoped>\n",
              "    .dataframe tbody tr th:only-of-type {\n",
              "        vertical-align: middle;\n",
              "    }\n",
              "\n",
              "    .dataframe tbody tr th {\n",
              "        vertical-align: top;\n",
              "    }\n",
              "\n",
              "    .dataframe thead th {\n",
              "        text-align: right;\n",
              "    }\n",
              "</style>\n",
              "<table border=\"1\" class=\"dataframe\">\n",
              "  <thead>\n",
              "    <tr style=\"text-align: right;\">\n",
              "      <th></th>\n",
              "      <th>ADBE</th>\n",
              "      <th>SPOT</th>\n",
              "      <th>BJ</th>\n",
              "      <th>DIS</th>\n",
              "      <th>BABA</th>\n",
              "      <th>FB</th>\n",
              "      <th>LOW</th>\n",
              "      <th>NLS</th>\n",
              "      <th>SONO</th>\n",
              "      <th>NEM</th>\n",
              "    </tr>\n",
              "  </thead>\n",
              "  <tbody>\n",
              "    <tr>\n",
              "      <th>ADBE</th>\n",
              "      <td>0.092474</td>\n",
              "      <td>0.074210</td>\n",
              "      <td>0.048615</td>\n",
              "      <td>0.032936</td>\n",
              "      <td>0.045857</td>\n",
              "      <td>0.048243</td>\n",
              "      <td>0.037898</td>\n",
              "      <td>0.041919</td>\n",
              "      <td>0.071728</td>\n",
              "      <td>0.011662</td>\n",
              "    </tr>\n",
              "    <tr>\n",
              "      <th>SPOT</th>\n",
              "      <td>0.074210</td>\n",
              "      <td>0.206184</td>\n",
              "      <td>0.028824</td>\n",
              "      <td>0.050573</td>\n",
              "      <td>0.061268</td>\n",
              "      <td>0.071114</td>\n",
              "      <td>0.050962</td>\n",
              "      <td>0.052689</td>\n",
              "      <td>0.066810</td>\n",
              "      <td>0.010712</td>\n",
              "    </tr>\n",
              "    <tr>\n",
              "      <th>BJ</th>\n",
              "      <td>0.048615</td>\n",
              "      <td>0.028824</td>\n",
              "      <td>0.200607</td>\n",
              "      <td>0.010654</td>\n",
              "      <td>0.021049</td>\n",
              "      <td>0.033346</td>\n",
              "      <td>0.040198</td>\n",
              "      <td>0.033570</td>\n",
              "      <td>0.040169</td>\n",
              "      <td>0.005704</td>\n",
              "    </tr>\n",
              "    <tr>\n",
              "      <th>DIS</th>\n",
              "      <td>0.032936</td>\n",
              "      <td>0.050573</td>\n",
              "      <td>0.010654</td>\n",
              "      <td>0.062128</td>\n",
              "      <td>0.025026</td>\n",
              "      <td>0.027464</td>\n",
              "      <td>0.031561</td>\n",
              "      <td>0.028354</td>\n",
              "      <td>0.059175</td>\n",
              "      <td>0.008273</td>\n",
              "    </tr>\n",
              "    <tr>\n",
              "      <th>BABA</th>\n",
              "      <td>0.045857</td>\n",
              "      <td>0.061268</td>\n",
              "      <td>0.021049</td>\n",
              "      <td>0.025026</td>\n",
              "      <td>0.112626</td>\n",
              "      <td>0.045653</td>\n",
              "      <td>0.029988</td>\n",
              "      <td>0.034133</td>\n",
              "      <td>0.060041</td>\n",
              "      <td>0.008464</td>\n",
              "    </tr>\n",
              "    <tr>\n",
              "      <th>FB</th>\n",
              "      <td>0.048243</td>\n",
              "      <td>0.071114</td>\n",
              "      <td>0.033346</td>\n",
              "      <td>0.027464</td>\n",
              "      <td>0.045653</td>\n",
              "      <td>0.140076</td>\n",
              "      <td>0.032232</td>\n",
              "      <td>0.032310</td>\n",
              "      <td>0.062193</td>\n",
              "      <td>0.008324</td>\n",
              "    </tr>\n",
              "    <tr>\n",
              "      <th>LOW</th>\n",
              "      <td>0.037898</td>\n",
              "      <td>0.050962</td>\n",
              "      <td>0.040198</td>\n",
              "      <td>0.031561</td>\n",
              "      <td>0.029988</td>\n",
              "      <td>0.032232</td>\n",
              "      <td>0.078150</td>\n",
              "      <td>0.041079</td>\n",
              "      <td>0.076446</td>\n",
              "      <td>0.010264</td>\n",
              "    </tr>\n",
              "    <tr>\n",
              "      <th>NLS</th>\n",
              "      <td>0.041919</td>\n",
              "      <td>0.052689</td>\n",
              "      <td>0.033570</td>\n",
              "      <td>0.028354</td>\n",
              "      <td>0.034133</td>\n",
              "      <td>0.032310</td>\n",
              "      <td>0.041079</td>\n",
              "      <td>0.516430</td>\n",
              "      <td>0.075563</td>\n",
              "      <td>0.023409</td>\n",
              "    </tr>\n",
              "    <tr>\n",
              "      <th>SONO</th>\n",
              "      <td>0.071728</td>\n",
              "      <td>0.066810</td>\n",
              "      <td>0.040169</td>\n",
              "      <td>0.059175</td>\n",
              "      <td>0.060041</td>\n",
              "      <td>0.062193</td>\n",
              "      <td>0.076446</td>\n",
              "      <td>0.075563</td>\n",
              "      <td>0.433134</td>\n",
              "      <td>0.013264</td>\n",
              "    </tr>\n",
              "    <tr>\n",
              "      <th>NEM</th>\n",
              "      <td>0.011662</td>\n",
              "      <td>0.010712</td>\n",
              "      <td>0.005704</td>\n",
              "      <td>0.008273</td>\n",
              "      <td>0.008464</td>\n",
              "      <td>0.008324</td>\n",
              "      <td>0.010264</td>\n",
              "      <td>0.023409</td>\n",
              "      <td>0.013264</td>\n",
              "      <td>0.127823</td>\n",
              "    </tr>\n",
              "  </tbody>\n",
              "</table>\n",
              "</div>"
            ],
            "text/plain": [
              "          ADBE      SPOT        BJ  ...       NLS      SONO       NEM\n",
              "ADBE  0.092474  0.074210  0.048615  ...  0.041919  0.071728  0.011662\n",
              "SPOT  0.074210  0.206184  0.028824  ...  0.052689  0.066810  0.010712\n",
              "BJ    0.048615  0.028824  0.200607  ...  0.033570  0.040169  0.005704\n",
              "DIS   0.032936  0.050573  0.010654  ...  0.028354  0.059175  0.008273\n",
              "BABA  0.045857  0.061268  0.021049  ...  0.034133  0.060041  0.008464\n",
              "FB    0.048243  0.071114  0.033346  ...  0.032310  0.062193  0.008324\n",
              "LOW   0.037898  0.050962  0.040198  ...  0.041079  0.076446  0.010264\n",
              "NLS   0.041919  0.052689  0.033570  ...  0.516430  0.075563  0.023409\n",
              "SONO  0.071728  0.066810  0.040169  ...  0.075563  0.433134  0.013264\n",
              "NEM   0.011662  0.010712  0.005704  ...  0.023409  0.013264  0.127823\n",
              "\n",
              "[10 rows x 10 columns]"
            ]
          },
          "metadata": {
            "tags": []
          },
          "execution_count": 39
        }
      ]
    },
    {
      "cell_type": "code",
      "metadata": {
        "colab": {
          "base_uri": "https://localhost:8080/"
        },
        "id": "_du1g6e-4kaj",
        "outputId": "ced016fc-17c1-4c16-8b6c-9a01b6dc65d7"
      },
      "source": [
        "# calculate portfolio variance\n",
        "port_variance = np.dot(weights.T, np.dot(cov_matrix_annual, weights))\n",
        "port_variance"
      ],
      "execution_count": 40,
      "outputs": [
        {
          "output_type": "execute_result",
          "data": {
            "text/plain": [
              "0.05417487345782576"
            ]
          },
          "metadata": {
            "tags": []
          },
          "execution_count": 40
        }
      ]
    },
    {
      "cell_type": "code",
      "metadata": {
        "colab": {
          "base_uri": "https://localhost:8080/"
        },
        "id": "aDY9V1BU46SI",
        "outputId": "a32aab98-60ac-4b67-ab82-daa93d9ce25c"
      },
      "source": [
        "# calculate portfolio volatility\n",
        "port_volatility = np.sqrt(port_variance)\n",
        "port_volatility"
      ],
      "execution_count": 41,
      "outputs": [
        {
          "output_type": "execute_result",
          "data": {
            "text/plain": [
              "0.232754964410699"
            ]
          },
          "metadata": {
            "tags": []
          },
          "execution_count": 41
        }
      ]
    },
    {
      "cell_type": "code",
      "metadata": {
        "colab": {
          "base_uri": "https://localhost:8080/"
        },
        "id": "9U6pk8Dy5JUz",
        "outputId": "5cafecbf-9665-495f-8f9f-79fc1a4e2eb7"
      },
      "source": [
        "# calculate annual portfolio return\n",
        "simple_annual_return = np.sum(returns.mean()*weights) * 252\n",
        "simple_annual_return"
      ],
      "execution_count": 42,
      "outputs": [
        {
          "output_type": "execute_result",
          "data": {
            "text/plain": [
              "0.27307614458067747"
            ]
          },
          "metadata": {
            "tags": []
          },
          "execution_count": 42
        }
      ]
    },
    {
      "cell_type": "code",
      "metadata": {
        "colab": {
          "base_uri": "https://localhost:8080/"
        },
        "id": "bHRcA9xM5dIX",
        "outputId": "541dde7b-1c4e-4793-de26-c3dfd7d65a6c"
      },
      "source": [
        "# expected annual return, volatility  and variance\n",
        "percent_var = str( round(port_variance,2) *100) + '%'\n",
        "percent_vols = str(round(port_volatility,2) * 100) + '%'\n",
        "percent_ret = str(round(simple_annual_return,2)* 100) + '%'\n",
        "\n",
        "print('Expected annual retudn: ' + percent_ret)\n",
        "print('Annual volatility / risk: ' + percent_vols)\n",
        "print(' Annual variance:' + percent_var )"
      ],
      "execution_count": 43,
      "outputs": [
        {
          "output_type": "stream",
          "text": [
            "Expected annual retudn: 27.0%\n",
            "Annual volatility / risk: 23.0%\n",
            " Annual variance:5.0%\n"
          ],
          "name": "stdout"
        }
      ]
    },
    {
      "cell_type": "code",
      "metadata": {
        "colab": {
          "base_uri": "https://localhost:8080/"
        },
        "id": "iAXKO4Ve6hFd",
        "outputId": "aac8d695-460f-4408-c246-ce8ca566c336"
      },
      "source": [
        "# optimizes portfolio to have higher returns and lower volatility\n",
        "pip install PyPortfolioOpt"
      ],
      "execution_count": 23,
      "outputs": [
        {
          "output_type": "stream",
          "text": [
            "Collecting PyPortfolioOpt\n",
            "\u001b[?25l  Downloading https://files.pythonhosted.org/packages/f9/19/1f903f95e2acb95dc4b4275278a7b9f0b2cdae387d815d6219ffb46d6576/PyPortfolioOpt-1.2.7-py3-none-any.whl (48kB)\n",
            "\r\u001b[K     |██████▊                         | 10kB 26.4MB/s eta 0:00:01\r\u001b[K     |█████████████▍                  | 20kB 32.8MB/s eta 0:00:01\r\u001b[K     |████████████████████▏           | 30kB 21.6MB/s eta 0:00:01\r\u001b[K     |██████████████████████████▉     | 40kB 18.3MB/s eta 0:00:01\r\u001b[K     |████████████████████████████████| 51kB 6.4MB/s \n",
            "\u001b[?25hRequirement already satisfied: scipy<2.0,>=1.3 in /usr/local/lib/python3.6/dist-packages (from PyPortfolioOpt) (1.4.1)\n",
            "Requirement already satisfied: cvxpy<2.0,>=1.0 in /usr/local/lib/python3.6/dist-packages (from PyPortfolioOpt) (1.0.31)\n",
            "Requirement already satisfied: cvxopt<2.0,>=1.2 in /usr/local/lib/python3.6/dist-packages (from PyPortfolioOpt) (1.2.5)\n",
            "Requirement already satisfied: numpy<2.0,>=1.12 in /usr/local/lib/python3.6/dist-packages (from PyPortfolioOpt) (1.19.5)\n",
            "Requirement already satisfied: pandas>=0.19 in /usr/local/lib/python3.6/dist-packages (from PyPortfolioOpt) (1.1.5)\n",
            "Requirement already satisfied: scs>=1.1.3 in /usr/local/lib/python3.6/dist-packages (from cvxpy<2.0,>=1.0->PyPortfolioOpt) (2.1.2)\n",
            "Requirement already satisfied: multiprocess in /usr/local/lib/python3.6/dist-packages (from cvxpy<2.0,>=1.0->PyPortfolioOpt) (0.70.11.1)\n",
            "Requirement already satisfied: osqp>=0.4.1 in /usr/local/lib/python3.6/dist-packages (from cvxpy<2.0,>=1.0->PyPortfolioOpt) (0.6.2)\n",
            "Requirement already satisfied: ecos>=2 in /usr/local/lib/python3.6/dist-packages (from cvxpy<2.0,>=1.0->PyPortfolioOpt) (2.0.7.post1)\n",
            "Requirement already satisfied: pytz>=2017.2 in /usr/local/lib/python3.6/dist-packages (from pandas>=0.19->PyPortfolioOpt) (2018.9)\n",
            "Requirement already satisfied: python-dateutil>=2.7.3 in /usr/local/lib/python3.6/dist-packages (from pandas>=0.19->PyPortfolioOpt) (2.8.1)\n",
            "Requirement already satisfied: dill>=0.3.3 in /usr/local/lib/python3.6/dist-packages (from multiprocess->cvxpy<2.0,>=1.0->PyPortfolioOpt) (0.3.3)\n",
            "Requirement already satisfied: qdldl in /usr/local/lib/python3.6/dist-packages (from osqp>=0.4.1->cvxpy<2.0,>=1.0->PyPortfolioOpt) (0.1.5.post0)\n",
            "Requirement already satisfied: six>=1.5 in /usr/local/lib/python3.6/dist-packages (from python-dateutil>=2.7.3->pandas>=0.19->PyPortfolioOpt) (1.15.0)\n",
            "Installing collected packages: PyPortfolioOpt\n",
            "Successfully installed PyPortfolioOpt-1.2.7\n"
          ],
          "name": "stdout"
        }
      ]
    },
    {
      "cell_type": "code",
      "metadata": {
        "id": "NPNa195y6yq6"
      },
      "source": [
        "from pypfopt.efficient_frontier import EfficientFrontier\n",
        "from pypfopt import risk_models\n",
        "from pypfopt import expected_returns"
      ],
      "execution_count": 44,
      "outputs": []
    },
    {
      "cell_type": "code",
      "metadata": {
        "colab": {
          "base_uri": "https://localhost:8080/"
        },
        "id": "VGrtqIKU7dmQ",
        "outputId": "4c260933-5560-4268-9a6c-5c4cc655cb92"
      },
      "source": [
        "# calculate the expected returns and the annualised sample covarience matrix of asset returns\n",
        "mu = expected_returns.mean_historical_return(df)\n",
        "S = risk_models.sample_cov(df)\n",
        "\n",
        "# Optimize for max sharpe ratio\n",
        "ef = EfficientFrontier(mu, S)\n",
        "weights = ef.max_sharpe()\n",
        "cleaned_weights = ef.clean_weights()\n",
        "print(cleaned_weights)\n",
        "ef.portfolio_performance(verbose=True)\n"
      ],
      "execution_count": 45,
      "outputs": [
        {
          "output_type": "stream",
          "text": [
            "OrderedDict([('ADBE', 0.27101), ('SPOT', 0.05164), ('BJ', 0.09101), ('DIS', 0.23346), ('BABA', 0.0), ('FB', 0.14856), ('LOW', 0.18801), ('NLS', 0.01631), ('SONO', 0.0), ('NEM', 0.0)])\n",
            "Expected annual return: 23.5%\n",
            "Annual volatility: 22.1%\n",
            "Sharpe Ratio: 0.97\n"
          ],
          "name": "stdout"
        },
        {
          "output_type": "execute_result",
          "data": {
            "text/plain": [
              "(0.23521358852803836, 0.22075179913234416, 0.9749120477111693)"
            ]
          },
          "metadata": {
            "tags": []
          },
          "execution_count": 45
        }
      ]
    },
    {
      "cell_type": "code",
      "metadata": {
        "colab": {
          "base_uri": "https://localhost:8080/"
        },
        "id": "VcHHQflh9zYD",
        "outputId": "00978133-2a68-4991-969d-ef3dd2c72e2c"
      },
      "source": [
        "from pypfopt.discrete_allocation import DiscreteAllocation, get_latest_prices\n",
        "\n",
        "latest_prices = get_latest_prices(df)\n",
        "weights = cleaned_weights\n",
        "da = DiscreteAllocation(weights, latest_prices, total_portfolio_value = 15000)\n",
        "allocation, leftover = da.lp_portfolio()\n",
        "\n",
        "print('Discrete Allocation: ', allocation)\n",
        "print('Funds remaining: ${:.2f}'.format(leftover))\n",
        "\n"
      ],
      "execution_count": 46,
      "outputs": [
        {
          "output_type": "stream",
          "text": [
            "Discrete Allocation:  {'ADBE': 8, 'SPOT': 2, 'BJ': 37, 'DIS': 20, 'FB': 8, 'LOW': 18, 'NLS': 14}\n",
            "Funds remaining: $38.34\n"
          ],
          "name": "stdout"
        }
      ]
    }
  ]
}